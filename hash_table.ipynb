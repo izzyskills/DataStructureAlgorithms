{
 "cells": [
  {
   "cell_type": "code",
   "execution_count": 1,
   "id": "0f4e9d61",
   "metadata": {},
   "outputs": [],
   "source": [
    "class HashTable:\n",
    "    def insert(self,key,value):\n",
    "        \"\"\"insert a new key value pair\"\"\"\n",
    "        \n",
    "        pass\n",
    "    def find (self,key):\n",
    "        \"\"\"find the value associated with a key\"\"\"\n",
    "        pass\n",
    "    def update(self,key,value):\n",
    "        \"\"\"change the value associated with a key\"\"\"\n",
    "        pass\n",
    "    def list_all(self):\n",
    "        \"\"\"list all the keys\"\"\"\n",
    "        pass"
   ]
  },
  {
   "cell_type": "code",
   "execution_count": 2,
   "id": "a5a6fc08",
   "metadata": {},
   "outputs": [],
   "source": [
    "data_list = [1]* 4096"
   ]
  },
  {
   "cell_type": "code",
   "execution_count": 3,
   "id": "632e5488",
   "metadata": {},
   "outputs": [
    {
     "data": {
      "text/plain": [
       "True"
      ]
     },
     "execution_count": 3,
     "metadata": {},
     "output_type": "execute_result"
    }
   ],
   "source": [
    "len(data_list)==4096"
   ]
  },
  {
   "cell_type": "code",
   "execution_count": 6,
   "id": "5b7b3fc5",
   "metadata": {},
   "outputs": [],
   "source": [
    "def get_index(data_list,a_string):\n",
    "    #variable to store the result(updated after every iteration)\n",
    "    result = 0 \n",
    "    for a_char in a_string:\n",
    "        # convert the character to a number (using ord)\n",
    "        a_number = ord(a_char)\n",
    "        # Update result by adding the number\n",
    "        result += a_number\n",
    "    # Take the remainder of the result with the size of the data list\n",
    "    list_index = result % len(data_list)   \n",
    "    return list_index"
   ]
  },
  {
   "cell_type": "code",
   "execution_count": 8,
   "id": "ca07e85f",
   "metadata": {},
   "outputs": [
    {
     "data": {
      "text/plain": [
       "True"
      ]
     },
     "execution_count": 8,
     "metadata": {},
     "output_type": "execute_result"
    }
   ],
   "source": [
    "get_index(data_list,\"Aakash\") == 585"
   ]
  },
  {
   "cell_type": "code",
   "execution_count": 9,
   "id": "9d11f73d",
   "metadata": {},
   "outputs": [],
   "source": [
    "f = get_index(data_list,\"louis james\")"
   ]
  },
  {
   "cell_type": "code",
   "execution_count": 10,
   "id": "7dc68450",
   "metadata": {},
   "outputs": [
    {
     "data": {
      "text/plain": [
       "1116"
      ]
     },
     "execution_count": 10,
     "metadata": {},
     "output_type": "execute_result"
    }
   ],
   "source": []
  },
  {
   "cell_type": "code",
   "execution_count": null,
   "id": "1f51422f",
   "metadata": {},
   "outputs": [],
   "source": []
  },
  {
   "cell_type": "markdown",
   "id": "b1b9de94",
   "metadata": {},
   "source": []
  }
 ],
 "metadata": {
  "kernelspec": {
   "display_name": "Python 3.9.7 ('base')",
   "language": "python",
   "name": "python3"
  },
  "language_info": {
   "codemirror_mode": {
    "name": "ipython",
    "version": 3
   },
   "file_extension": ".py",
   "mimetype": "text/x-python",
   "name": "python",
   "nbconvert_exporter": "python",
   "pygments_lexer": "ipython3",
   "version": "3.9.7"
  },
  "vscode": {
   "interpreter": {
    "hash": "cf9bfc1c26ea1e099b37c2c203f9f6bae63c706b53e05662839b77d4aec7e232"
   }
  }
 },
 "nbformat": 4,
 "nbformat_minor": 5
}
