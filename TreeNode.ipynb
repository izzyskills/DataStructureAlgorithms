{
 "cells": [
  {
   "cell_type": "code",
   "execution_count": 1,
   "id": "adb52c80",
   "metadata": {},
   "outputs": [],
   "source": [
    "class TreeNode:\n",
    "    def __init__(self,key):\n",
    "        self.key,self.right,self.left = key,None,None\n",
    "    \n",
    "    def size(self):\n",
    "        if self is None:\n",
    "            return 0\n",
    "        return 1 + TreeNode.size(self.right) + TreeNode.size(self.left)\n",
    "    \n",
    "    def height(self):\n",
    "        if self is None:\n",
    "            return 0\n",
    "        return 1 + max(TreeNode.height(self.left),TreeNode.height(self.right))\n",
    "    def traverse_in_order(self):\n",
    "        if self is None:\n",
    "            return []\n",
    "        return (TreeNode.traverse_in_order(self.left) + [self.key]+ TreeNode.traverse_in_order(self.right))\n",
    "    \n",
    "    def traverse_preorder(self):\n",
    "        if self is None:\n",
    "            return []\n",
    "        return([self.key] + TreeNode.traverse_preorder(self.left)+TreeNode.traverse_preorder(self.right))\n",
    "    def traverse_postorder(self):\n",
    "        if self is None:\n",
    "            return[]\n",
    "        return(TreeNode.traverse_postorder(self.left)+TreeNode.traverse_postorder(self.right)+[self.key])\n",
    "    \n",
    "    def to_tuple(self):\n",
    "        if self is None:\n",
    "            return None\n",
    "        if self.right is None and self.left is None:\n",
    "            return self.key\n",
    "        return TreeNode.to_tuple(self.left),self.key,TreeNode.to_tuple(self.right)\n",
    "\n",
    "    def display_keys(self,space=\"\\t\",level=0):\n",
    "        if self is None:\n",
    "            print(space*level + \"◯\")\n",
    "            return\n",
    "        #if the node is a leaf\n",
    "        if self.left is None and self.right is None:\n",
    "            print(space*level+ str(self.key))\n",
    "            return\n",
    "        # if the node has children\n",
    "        TreeNode.display_keys(self.right,space,level+1)\n",
    "        print(space*level + str(self.key))\n",
    "        TreeNode.display_keys(self.left,space,level+1)\n",
    "    def __str__(self):\n",
    "        return \"Binary Tree <{}>\".format(self.to_tuple())\n",
    "    def __repr__(self):\n",
    "        return \"Binary Tree <{}>\".format(self.to_tuple())\n",
    "    @staticmethod\n",
    "    def parse_tuple(data):\n",
    "        if isinstance(data,tuple)and len(data)==3:\n",
    "            node = TreeNode(data[1])\n",
    "            node.left = TreeNode.parse_tuple(data[0])\n",
    "            node.right = TreeNode.parse_tuple(data[2])\n",
    "        elif data is None:\n",
    "            node = None\n",
    "        else:\n",
    "            node = TreeNode(data)\n",
    "        return node\n",
    "    \n",
    "    "
   ]
  },
  {
   "cell_type": "code",
   "execution_count": 2,
   "id": "4118c426",
   "metadata": {},
   "outputs": [],
   "source": [
    "tree_tuple = ((1,3,(4,6,None)),2,((None,3,4),5,(6,7,8)))\n"
   ]
  },
  {
   "cell_type": "code",
   "execution_count": 3,
   "id": "9156084a",
   "metadata": {},
   "outputs": [],
   "source": [
    "tree2 = TreeNode.parse_tuple(tree_tuple)"
   ]
  },
  {
   "cell_type": "code",
   "execution_count": 4,
   "id": "2050a381",
   "metadata": {},
   "outputs": [
    {
     "name": "stdout",
     "output_type": "stream",
     "text": [
      "\t\t\t8\n",
      "\t\t7\n",
      "\t\t\t6\n",
      "\t5\n",
      "\t\t\t4\n",
      "\t\t3\n",
      "\t\t\t◯\n",
      "2\n",
      "\t\t\t◯\n",
      "\t\t6\n",
      "\t\t\t4\n",
      "\t3\n",
      "\t\t1\n"
     ]
    }
   ],
   "source": [
    "tree2.display_keys()"
   ]
  },
  {
   "cell_type": "code",
   "execution_count": 5,
   "id": "d26a861a",
   "metadata": {},
   "outputs": [
    {
     "data": {
      "text/plain": [
       "Binary Tree <((1, 3, (4, 6, None)), 2, ((None, 3, 4), 5, (6, 7, 8)))>"
      ]
     },
     "execution_count": 5,
     "metadata": {},
     "output_type": "execute_result"
    }
   ],
   "source": [
    "tree2"
   ]
  },
  {
   "cell_type": "raw",
   "id": "afacdbc9",
   "metadata": {},
   "source": [
    "tree2.traverse_preorder()"
   ]
  },
  {
   "cell_type": "code",
   "execution_count": 6,
   "id": "a1d8ddd1",
   "metadata": {},
   "outputs": [
    {
     "ename": "NameError",
     "evalue": "name 'tree' is not defined",
     "output_type": "error",
     "traceback": [
      "\u001b[1;31m---------------------------------------------------------------------------\u001b[0m",
      "\u001b[1;31mNameError\u001b[0m                                 Traceback (most recent call last)",
      "\u001b[1;32m~\\AppData\\Local\\Temp/ipykernel_6744/2236162935.py\u001b[0m in \u001b[0;36m<module>\u001b[1;34m\u001b[0m\n\u001b[1;32m----> 1\u001b[1;33m \u001b[0mtree\u001b[0m\u001b[1;33m.\u001b[0m\u001b[0msize\u001b[0m\u001b[1;33m(\u001b[0m\u001b[1;33m)\u001b[0m\u001b[1;33m\u001b[0m\u001b[1;33m\u001b[0m\u001b[0m\n\u001b[0m",
      "\u001b[1;31mNameError\u001b[0m: name 'tree' is not defined"
     ]
    }
   ],
   "source": [
    "tree.size()"
   ]
  },
  {
   "cell_type": "code",
   "execution_count": 7,
   "id": "7877bfbf",
   "metadata": {},
   "outputs": [
    {
     "data": {
      "text/plain": [
       "11"
      ]
     },
     "execution_count": 7,
     "metadata": {},
     "output_type": "execute_result"
    }
   ],
   "source": [
    "tree2.size()"
   ]
  },
  {
   "cell_type": "code",
   "execution_count": 8,
   "id": "11913e73",
   "metadata": {},
   "outputs": [
    {
     "data": {
      "text/plain": [
       "[2, 3, 1, 6, 4, 5, 3, 4, 7, 6, 8]"
      ]
     },
     "execution_count": 8,
     "metadata": {},
     "output_type": "execute_result"
    }
   ],
   "source": [
    "tree2.traverse_preorder()"
   ]
  },
  {
   "cell_type": "code",
   "execution_count": 9,
   "id": "5636ad53",
   "metadata": {},
   "outputs": [
    {
     "data": {
      "text/plain": [
       "4"
      ]
     },
     "execution_count": 9,
     "metadata": {},
     "output_type": "execute_result"
    }
   ],
   "source": [
    "tree2.height()"
   ]
  },
  {
   "cell_type": "code",
   "execution_count": 10,
   "id": "d9ce1970",
   "metadata": {},
   "outputs": [
    {
     "data": {
      "text/plain": [
       "((1, 3, (4, 6, None)), 2, ((None, 3, 4), 5, (6, 7, 8)))"
      ]
     },
     "execution_count": 10,
     "metadata": {},
     "output_type": "execute_result"
    }
   ],
   "source": [
    "tree2.to_tuple()"
   ]
  },
  {
   "cell_type": "code",
   "execution_count": 11,
   "id": "e9dcabc3",
   "metadata": {},
   "outputs": [
    {
     "data": {
      "text/plain": [
       "((1, 3, (4, 6, None)), 2, ((None, 3, 4), 5, (6, 7, 8)))"
      ]
     },
     "execution_count": 11,
     "metadata": {},
     "output_type": "execute_result"
    }
   ],
   "source": [
    "tree2.to_tuple()"
   ]
  },
  {
   "cell_type": "code",
   "execution_count": 12,
   "id": "24660570",
   "metadata": {},
   "outputs": [],
   "source": [
    "def remove_none(nums):\n",
    "    return [x for x in nums if x is not None]\n",
    "def is_bst(node):\n",
    "    if  node is None:\n",
    "        return True,None,None\n",
    "    is_bst_l,min_l,max_l = is_bst(node.left)\n",
    "    is_bst_r,min_r,max_r = is_bst(node.right)\n",
    "    is_bst_node = (is_bst_l and is_bst_r and (max_l is None or node.key>max_l)\n",
    "                  and (min_r is None or node.key<min_r))\n",
    "    min_key = min(remove_none([min_l,node.key,min_r]))\n",
    "    max_key = max(remove_none([max_l,node.key,max_r]))\n",
    "    #print(node.key,min_key,max_key,is_bst_node)\n",
    "    return is_bst_node,min_key,max_key\n"
   ]
  },
  {
   "cell_type": "code",
   "execution_count": 13,
   "id": "a3469fbe",
   "metadata": {},
   "outputs": [
    {
     "data": {
      "text/plain": [
       "(False, 1, 8)"
      ]
     },
     "execution_count": 13,
     "metadata": {},
     "output_type": "execute_result"
    }
   ],
   "source": [
    "is_bst(tree2)"
   ]
  },
  {
   "cell_type": "code",
   "execution_count": 14,
   "id": "3a11cdde",
   "metadata": {},
   "outputs": [],
   "source": [
    "names = (('aisha','bolaji','henry'),'james',('saia','sam','victor'))\n",
    "nameTree = TreeNode.parse_tuple(names)"
   ]
  },
  {
   "cell_type": "code",
   "execution_count": 15,
   "id": "560820da",
   "metadata": {},
   "outputs": [
    {
     "data": {
      "text/plain": [
       "Binary Tree <(('aisha', 'bolaji', 'henry'), 'james', ('saia', 'sam', 'victor'))>"
      ]
     },
     "execution_count": 15,
     "metadata": {},
     "output_type": "execute_result"
    }
   ],
   "source": [
    "nameTree"
   ]
  },
  {
   "cell_type": "code",
   "execution_count": 16,
   "id": "231b97ed",
   "metadata": {},
   "outputs": [
    {
     "data": {
      "text/plain": [
       "(True, 'aisha', 'victor')"
      ]
     },
     "execution_count": 16,
     "metadata": {},
     "output_type": "execute_result"
    }
   ],
   "source": [
    "is_bst(nameTree)"
   ]
  },
  {
   "cell_type": "code",
   "execution_count": 17,
   "id": "1b203281",
   "metadata": {},
   "outputs": [
    {
     "data": {
      "text/plain": [
       "[1, 4, 6, 3, 4, 3, 6, 8, 7, 5, 2]"
      ]
     },
     "execution_count": 17,
     "metadata": {},
     "output_type": "execute_result"
    }
   ],
   "source": [
    "tree2.traverse_postorder()"
   ]
  },
  {
   "cell_type": "code",
   "execution_count": 18,
   "id": "2e62f264",
   "metadata": {},
   "outputs": [],
   "source": [
    "treenode2 = ((4,2,None),1,((7,5,8),3,6))\n",
    "tree3 = TreeNode.parse_tuple(treenode2)"
   ]
  },
  {
   "cell_type": "code",
   "execution_count": 19,
   "id": "87f43e21",
   "metadata": {},
   "outputs": [
    {
     "data": {
      "text/plain": [
       "Binary Tree <((4, 2, None), 1, ((7, 5, 8), 3, 6))>"
      ]
     },
     "execution_count": 19,
     "metadata": {},
     "output_type": "execute_result"
    }
   ],
   "source": [
    "tree3"
   ]
  },
  {
   "cell_type": "code",
   "execution_count": 20,
   "id": "317a7cfa",
   "metadata": {},
   "outputs": [
    {
     "data": {
      "text/plain": [
       "[4, 2, 7, 8, 5, 6, 3, 1]"
      ]
     },
     "execution_count": 20,
     "metadata": {},
     "output_type": "execute_result"
    }
   ],
   "source": [
    "tree3.traverse_postorder()"
   ]
  },
  {
   "cell_type": "code",
   "execution_count": 21,
   "id": "4be2b627",
   "metadata": {},
   "outputs": [
    {
     "data": {
      "text/plain": [
       "['aisha', 'henry', 'bolaji', 'saia', 'victor', 'sam', 'james']"
      ]
     },
     "execution_count": 21,
     "metadata": {},
     "output_type": "execute_result"
    }
   ],
   "source": [
    "nameTree.traverse_postorder()"
   ]
  },
  {
   "cell_type": "code",
   "execution_count": 22,
   "id": "085bce40",
   "metadata": {},
   "outputs": [],
   "source": [
    "class BSTnode:\n",
    "    def __init__(self,key,value=None):\n",
    "        self.key = key\n",
    "        self.value = value\n",
    "        self.left = None\n",
    "        self.right = None\n",
    "        self.parent = None\n",
    "        "
   ]
  },
  {
   "cell_type": "code",
   "execution_count": null,
   "id": "cc0228d3",
   "metadata": {},
   "outputs": [],
   "source": []
  }
 ],
 "metadata": {
  "kernelspec": {
   "display_name": "Python 3 (ipykernel)",
   "language": "python",
   "name": "python3"
  },
  "language_info": {
   "codemirror_mode": {
    "name": "ipython",
    "version": 3
   },
   "file_extension": ".py",
   "mimetype": "text/x-python",
   "name": "python",
   "nbconvert_exporter": "python",
   "pygments_lexer": "ipython3",
   "version": "3.9.7"
  }
 },
 "nbformat": 4,
 "nbformat_minor": 5
}
