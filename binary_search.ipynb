{
 "cells": [
  {
   "cell_type": "code",
   "execution_count": 1,
   "id": "72e36723",
   "metadata": {},
   "outputs": [],
   "source": [
    "# a list is  rotated an unknown number times.\n",
    "# it is a sorted list(asceding) all numbes are unique\n",
    "# input: list , ouput = 1 \n",
    "# example = [5,6,9,0,2,3,4] output 3 from list [0,2,3,4,5,6,9]"
   ]
  },
  {
   "cell_type": "code",
   "execution_count": 44,
   "id": "2999191e",
   "metadata": {},
   "outputs": [],
   "source": [
    "from typing import List\n",
    "test = []\n",
    "test.append({\"input\":[5,6,9,0,2,3,4],\"output\":3})\n",
    "test.append({\"input\":[7,8,9,10,5],\"output\": 4})\n",
    "test.append({\"input\":[100,4,5,6,7,8,9,56],\"output\":1})\n",
    "test.append({\"input\":[45,56,89,100,150,500,7,6,12,22,32,36],'output':6})"
   ]
  },
  {
   "cell_type": "code",
   "execution_count": 45,
   "id": "0f5dda55",
   "metadata": {},
   "outputs": [
    {
     "data": {
      "text/plain": [
       "[{'input': [5, 6, 9, 0, 2, 3, 4], 'output': 3},\n",
       " {'input': [7, 8, 9, 10, 5], 'output': 4},\n",
       " {'input': [100, 4, 5, 6, 7, 8, 9, 56], 'output': 1},\n",
       " {'input': [45, 56, 89, 100, 150, 500, 7, 6, 12, 22, 32, 36], 'output': 6}]"
      ]
     },
     "execution_count": 45,
     "metadata": {},
     "output_type": "execute_result"
    }
   ],
   "source": [
    "test"
   ]
  },
  {
   "cell_type": "code",
   "execution_count": 46,
   "id": "e9da4590",
   "metadata": {},
   "outputs": [],
   "source": [
    "def binary_search(lo:int,hi:int,condition:str)-> int:\n",
    "    while lo<=hi:\n",
    "        mid = (lo+hi)//2\n",
    "        result = condition(mid)\n",
    "        if result == 'found':\n",
    "            return mid\n",
    "        elif result == 'left':\n",
    "            hi = mid-1\n",
    "        else:\n",
    "            lo = mid+1\n",
    "    return -1 "
   ]
  },
  {
   "cell_type": "code",
   "execution_count": 47,
   "id": "647489da",
   "metadata": {},
   "outputs": [],
   "source": [
    "def num_of_rotation(nums:List[int])-> int:\n",
    "    lo,hi = 0,len(nums)-1\n",
    "    def condition(mid):\n",
    "        if nums[lo] > nums[hi]:\n",
    "            if nums[lo] < nums[mid] and nums[mid] > nums[mid+1]:\n",
    "                return \"found\"\n",
    "            elif nums[lo] > nums[mid]:\n",
    "                return \"left\"\n",
    "            elif nums[lo] < nums[mid]:\n",
    "                return \"right\"\n",
    "    return binary_search(0,len(nums)-1,condition)+1\n",
    "\n",
    "    "
   ]
  },
  {
   "cell_type": "code",
   "execution_count": 55,
   "id": "c067b8f8",
   "metadata": {},
   "outputs": [
    {
     "data": {
      "text/plain": [
       "0"
      ]
     },
     "execution_count": 55,
     "metadata": {},
     "output_type": "execute_result"
    }
   ],
   "source": [
    "num_of_rotation([1,2,4,5])\n"
   ]
  },
  {
   "cell_type": "code",
   "execution_count": 49,
   "id": "d9db020f",
   "metadata": {},
   "outputs": [
    {
     "data": {
      "text/plain": [
       "True"
      ]
     },
     "execution_count": 49,
     "metadata": {},
     "output_type": "execute_result"
    }
   ],
   "source": [
    "num_of_rotation(test[0][\"input\"]) == test[0]['output']"
   ]
  },
  {
   "cell_type": "code",
   "execution_count": 50,
   "id": "0e055653",
   "metadata": {},
   "outputs": [],
   "source": [
    "s=[]\n",
    "for i in test:\n",
    "    p = num_of_rotation(test[0][\"input\"]) == test[0]['output']\n",
    "    s.append(p)"
   ]
  },
  {
   "cell_type": "code",
   "execution_count": 51,
   "id": "7695c9e4",
   "metadata": {},
   "outputs": [
    {
     "data": {
      "text/plain": [
       "[True, True, True, True]"
      ]
     },
     "execution_count": 51,
     "metadata": {},
     "output_type": "execute_result"
    }
   ],
   "source": [
    "s"
   ]
  },
  {
   "cell_type": "code",
   "execution_count": null,
   "id": "f1914552",
   "metadata": {},
   "outputs": [],
   "source": []
  }
 ],
 "metadata": {
  "kernelspec": {
   "display_name": "Python 3 (ipykernel)",
   "language": "python",
   "name": "python3"
  },
  "language_info": {
   "codemirror_mode": {
    "name": "ipython",
    "version": 3
   },
   "file_extension": ".py",
   "mimetype": "text/x-python",
   "name": "python",
   "nbconvert_exporter": "python",
   "pygments_lexer": "ipython3",
   "version": "3.9.7"
  }
 },
 "nbformat": 4,
 "nbformat_minor": 5
}
