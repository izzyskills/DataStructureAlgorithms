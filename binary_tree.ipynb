{
 "cells": [
  {
   "cell_type": "code",
   "execution_count": 200,
   "id": "864aba3d",
   "metadata": {},
   "outputs": [],
   "source": [
    "class TreeNode:\n",
    "    def __init__(self,key):\n",
    "        self.key,self.right,self.left = key,None,None\n",
    "    \n",
    "    def size(self):\n",
    "        if self is None:\n",
    "            return 0\n",
    "        return 1 + TreeNode.size(self.right) + TreeNode.size(self.left)\n",
    "    \n",
    "    def height(self):\n",
    "        if self is None:\n",
    "            return 0\n",
    "        return 1 + max(TreeNode.height(self.left),TreeNode.height(self.right))\n",
    "    def traverse_in_order(self):\n",
    "        if self is None:\n",
    "            return []\n",
    "        return (TreeNode.traverse_in_order(self.left) + [self.key]+ TreeNode.traverse_in_order(self.right))\n",
    "    \n",
    "    def traverse_preorder(self):\n",
    "        if self is None:\n",
    "            return []\n",
    "        return([self.key] + TreeNode.traverse_preorder(self.left)+TreeNode.traverse_preorder(self.right))\n",
    "    def traverse_postorder(self):\n",
    "        if self is None:\n",
    "            return[]\n",
    "        return(TreeNode.traverse_postorder(self.left)+TreeNode.traverse_postorder(self.right)+[self.key])\n",
    "    \n",
    "    def to_tuple(self):\n",
    "        if self is None:\n",
    "            return None\n",
    "        if self.right is None and self.left is None:\n",
    "            return self.key\n",
    "        return TreeNode.to_tuple(self.left),self.key,TreeNode.to_tuple(self.right)\n",
    "\n",
    "    def display_keys(self,space=\"\\t\",level=0):\n",
    "        if self is None:\n",
    "            print(space*level + \"◯\")\n",
    "            return\n",
    "        #if the node is a leaf\n",
    "        if self.left is None and self.right is None:\n",
    "            print(space*level+ str(self.key))\n",
    "            return\n",
    "        # if the node has children\n",
    "        TreeNode.display_keys(self.right,space,level+1)\n",
    "        print(space*level + str(self.key))\n",
    "        TreeNode.display_keys(self.left,space,level+1)\n",
    "    def __str__(self):\n",
    "        return \"Binary Tree <{}>\".format(self.to_tuple())\n",
    "    def __repr__(self):\n",
    "        return \"Binary Tree <{}>\".format(self.to_tuple())\n",
    "    @staticmethod\n",
    "    def parse_tuple(data):\n",
    "        if isinstance(data,tuple)and len(data)==3:\n",
    "            node = TreeNode(data[1])\n",
    "            node.left = TreeNode.parse_tuple(data[0])\n",
    "            node.right = TreeNode.parse_tuple(data[2])\n",
    "        elif data is None:\n",
    "            node = None\n",
    "        else:\n",
    "            node = TreeNode(data)\n",
    "        return node\n",
    "    "
   ]
  },
  {
   "cell_type": "code",
   "execution_count": 4,
   "id": "f79cffe7",
   "metadata": {},
   "outputs": [],
   "source": [
    "class User:\n",
    "        def __init__ (self,username,name,email):\n",
    "            self.username = username\n",
    "            self.name = name\n",
    "            self.email = email\n",
    "        def __repr__(self):\n",
    "           return \"User(username= {}, name={}, email= {})\".format(self.username,self.name,self.email)\n",
    "        "
   ]
  },
  {
   "cell_type": "code",
   "execution_count": 5,
   "id": "cbef7b53",
   "metadata": {},
   "outputs": [],
   "source": [
    "user1 = User('james21','james bond','opor2gmal.com')"
   ]
  },
  {
   "cell_type": "code",
   "execution_count": 6,
   "id": "e3aa1c59",
   "metadata": {},
   "outputs": [
    {
     "data": {
      "text/plain": [
       "User(username= james21, name=james bond, email= opor2gmal.com)"
      ]
     },
     "execution_count": 6,
     "metadata": {},
     "output_type": "execute_result"
    }
   ],
   "source": [
    "user1"
   ]
  },
  {
   "cell_type": "code",
   "execution_count": 205,
   "id": "758ea7db",
   "metadata": {},
   "outputs": [],
   "source": [
    "user2 = User('ezefri','eze','ezzi@mail.com')"
   ]
  },
  {
   "cell_type": "code",
   "execution_count": 206,
   "id": "b10d06f1",
   "metadata": {},
   "outputs": [
    {
     "data": {
      "text/plain": [
       "User(username= ezefri, name=eze, email= ezzi@mail.com)"
      ]
     },
     "execution_count": 206,
     "metadata": {},
     "output_type": "execute_result"
    }
   ],
   "source": [
    "user2"
   ]
  },
  {
   "cell_type": "code",
   "execution_count": 207,
   "id": "d8d42969",
   "metadata": {},
   "outputs": [],
   "source": [
    "class DataBase:\n",
    "    def insert(self,key,value):\n",
    "        if self is None:\n",
    "            self = TreeNode(key,value)\n",
    "    def find(self, username):\n",
    "        pass\n",
    "    def update(self,user):\n",
    "        pass\n",
    "    def list_all(self):\n",
    "        pass\n",
    "    "
   ]
  },
  {
   "cell_type": "code",
   "execution_count": 208,
   "id": "71652a39",
   "metadata": {},
   "outputs": [],
   "source": [
    "class BSTNode():\n",
    "    def __init__(self, key, value=None):\n",
    "        self.key = key\n",
    "        self.value = value\n",
    "        self.right = None\n",
    "        self.left = None\n",
    "        self.parent = None\n",
    "        "
   ]
  },
  {
   "cell_type": "code",
   "execution_count": 209,
   "id": "944fdd78",
   "metadata": {},
   "outputs": [],
   "source": [
    "tree =BSTNode(\"james\",user1)\n",
    "tree.left = BSTNode(\"eze\",user2) \n",
    "tree.left.parent = tree\n",
    "tree.right = BSTNode('samuel',User('samilevi','sami ackerman',\"sami@rumbling.com\"))\n",
    "tree.right.parent = tree"
   ]
  },
  {
   "cell_type": "code",
   "execution_count": 210,
   "id": "ed30dc38",
   "metadata": {},
   "outputs": [
    {
     "data": {
      "text/plain": [
       "User(username= james21, name=james bond, email= opor2gmal.com)"
      ]
     },
     "execution_count": 210,
     "metadata": {},
     "output_type": "execute_result"
    }
   ],
   "source": [
    "tree.left.parent.value"
   ]
  },
  {
   "cell_type": "code",
   "execution_count": 211,
   "id": "842de398",
   "metadata": {},
   "outputs": [
    {
     "name": "stdout",
     "output_type": "stream",
     "text": [
      "\tsamuel\n",
      "james\n",
      "\teze\n"
     ]
    }
   ],
   "source": [
    "TreeNode.display_keys(tree)"
   ]
  },
  {
   "cell_type": "code",
   "execution_count": 212,
   "id": "7a38cd55",
   "metadata": {},
   "outputs": [],
   "source": [
    "def insert(node,key,value):\n",
    "    if node is None:\n",
    "        node = BSTNode(key,value)\n",
    "    elif key<node.key:\n",
    "        node.left = insert(node.left,key,value)\n",
    "        node.left.parent = node\n",
    "    elif key>node.key:\n",
    "        node.right = insert(node.right,key,value)\n",
    "        node.right.parent = node\n",
    "    return node"
   ]
  },
  {
   "cell_type": "code",
   "execution_count": 213,
   "id": "bada5a20",
   "metadata": {},
   "outputs": [
    {
     "data": {
      "text/plain": [
       "<__main__.BSTNode at 0x15d2b048490>"
      ]
     },
     "execution_count": 213,
     "metadata": {},
     "output_type": "execute_result"
    }
   ],
   "source": [
    "tree = insert(None,user1.username, user1)\n",
    "insert(tree,user2.username,user2)\n",
    "insert(tree,'samilevi',User('samilevi','sami ackerman',\"sami@rumbling.com\"))"
   ]
  },
  {
   "cell_type": "code",
   "execution_count": 214,
   "id": "fa35da0e",
   "metadata": {},
   "outputs": [
    {
     "name": "stdout",
     "output_type": "stream",
     "text": [
      "\tsamilevi\n",
      "james21\n",
      "\tezefri\n"
     ]
    }
   ],
   "source": [
    "TreeNode.display_keys(tree)"
   ]
  },
  {
   "cell_type": "code",
   "execution_count": 215,
   "id": "95060e1a",
   "metadata": {},
   "outputs": [],
   "source": [
    "user4 = User('armin_colossal','armin arlert',\"armin@paradis.com\")\n",
    "user5 = User(\"eren_rumbles\",'eren yeager',\"eren@rumbling.com\")\n",
    "user6 = User(\"mikasa_skills\",\"mikasa ackerman\",\"mikasa@broken.pow\")\n",
    "user7 = User(\"zeke_euthansia\",\"zeke yeager\",\"zeke@failed.bet\")"
   ]
  },
  {
   "cell_type": "code",
   "execution_count": 216,
   "id": "697a20c4",
   "metadata": {},
   "outputs": [],
   "source": [
    "user3 = User('samilevi','sami ackerman',\"sami@rumbling.com\")\n",
    "users = [user1,user2,user3,user4,user5,user6,user7]"
   ]
  },
  {
   "cell_type": "code",
   "execution_count": 217,
   "id": "3462284d",
   "metadata": {},
   "outputs": [
    {
     "data": {
      "text/plain": [
       "<__main__.BSTNode at 0x15d2b048bb0>"
      ]
     },
     "execution_count": 217,
     "metadata": {},
     "output_type": "execute_result"
    }
   ],
   "source": [
    "insert(None,users[0].username,users[0])"
   ]
  },
  {
   "cell_type": "code",
   "execution_count": 218,
   "id": "24f76c3c",
   "metadata": {},
   "outputs": [],
   "source": [
    "tree = None\n",
    "for i in range(len(users)-1):\n",
    "    if i == 0:\n",
    "        tree = insert(None,users[0].username,users[0])\n",
    "    else:\n",
    "        insert(tree,users[i].username,users[i])\n",
    "        "
   ]
  },
  {
   "cell_type": "code",
   "execution_count": 219,
   "id": "a7de1b49",
   "metadata": {},
   "outputs": [
    {
     "name": "stdout",
     "output_type": "stream",
     "text": [
      "\t\t◯\n",
      "\tsamilevi\n",
      "\t\tmikasa_skills\n",
      "james21\n",
      "\t\t◯\n",
      "\tezefri\n",
      "\t\t\teren_rumbles\n",
      "\t\tarmin_colossal\n",
      "\t\t\t◯\n"
     ]
    }
   ],
   "source": [
    "TreeNode.display_keys(tree)"
   ]
  },
  {
   "cell_type": "code",
   "execution_count": 220,
   "id": "7ca7f77e",
   "metadata": {},
   "outputs": [
    {
     "ename": "TypeError",
     "evalue": "'<' not supported between instances of 'User' and 'User'",
     "output_type": "error",
     "traceback": [
      "\u001b[1;31m---------------------------------------------------------------------------\u001b[0m",
      "\u001b[1;31mTypeError\u001b[0m                                 Traceback (most recent call last)",
      "\u001b[1;32m~\\AppData\\Local\\Temp/ipykernel_14508/3427472132.py\u001b[0m in \u001b[0;36m<module>\u001b[1;34m\u001b[0m\n\u001b[1;32m----> 1\u001b[1;33m \u001b[0musers2\u001b[0m \u001b[1;33m=\u001b[0m \u001b[0musers\u001b[0m\u001b[1;33m.\u001b[0m\u001b[0msort\u001b[0m\u001b[1;33m(\u001b[0m\u001b[1;33m)\u001b[0m\u001b[1;33m\u001b[0m\u001b[1;33m\u001b[0m\u001b[0m\n\u001b[0m",
      "\u001b[1;31mTypeError\u001b[0m: '<' not supported between instances of 'User' and 'User'"
     ]
    }
   ],
   "source": [
    "users2 = users.sort()"
   ]
  },
  {
   "cell_type": "code",
   "execution_count": 221,
   "id": "790f61b8",
   "metadata": {},
   "outputs": [],
   "source": [
    "def find(node,key):\n",
    "        if node is None:\n",
    "            return None\n",
    "        if node.key == key:\n",
    "            return node\n",
    "        if key< node.key:\n",
    "            return find(node.left,key)\n",
    "        if key>node.key:\n",
    "            return find(node.right,key)"
   ]
  },
  {
   "cell_type": "code",
   "execution_count": 222,
   "id": "5fcdd6d1",
   "metadata": {},
   "outputs": [],
   "source": [
    "v = find(tree,\"mikasa_skills\")"
   ]
  },
  {
   "cell_type": "code",
   "execution_count": 223,
   "id": "0e2dc71c",
   "metadata": {},
   "outputs": [
    {
     "data": {
      "text/plain": [
       "User(username= mikasa_skills, name=mikasa ackerman, email= mikasa@broken.pow)"
      ]
     },
     "execution_count": 223,
     "metadata": {},
     "output_type": "execute_result"
    }
   ],
   "source": [
    "v.value"
   ]
  },
  {
   "cell_type": "code",
   "execution_count": 224,
   "id": "be033966",
   "metadata": {},
   "outputs": [],
   "source": [
    "def update(node,key,value):\n",
    "    target = find(node,key)\n",
    "    if target is not None:\n",
    "        target.value = value\n",
    "        \n",
    "        "
   ]
  },
  {
   "cell_type": "code",
   "execution_count": 225,
   "id": "ea41ba2e",
   "metadata": {},
   "outputs": [],
   "source": [
    "update(tree,\"samilevi\",User('samix',\"sami changer\",'sami@gmial.com'))"
   ]
  },
  {
   "cell_type": "code",
   "execution_count": 226,
   "id": "a41a4bdd",
   "metadata": {},
   "outputs": [],
   "source": [
    "v = find(tree,\"samilevi\")"
   ]
  },
  {
   "cell_type": "code",
   "execution_count": 227,
   "id": "35c7a0ec",
   "metadata": {},
   "outputs": [
    {
     "data": {
      "text/plain": [
       "'samilevi'"
      ]
     },
     "execution_count": 227,
     "metadata": {},
     "output_type": "execute_result"
    }
   ],
   "source": [
    "v.key"
   ]
  },
  {
   "cell_type": "code",
   "execution_count": 228,
   "id": "1ba1709d",
   "metadata": {},
   "outputs": [],
   "source": [
    "def listall(node):\n",
    "    if node is None:\n",
    "        return []\n",
    "    return listall(node.left)+[(node.key,node.value)]+ listall(node.right)"
   ]
  },
  {
   "cell_type": "code",
   "execution_count": 229,
   "id": "521ef2af",
   "metadata": {},
   "outputs": [],
   "source": [
    "def is_balanced(node):\n",
    "    if node is None:\n",
    "        return True , 0\n",
    "    balanced_l ,height_l = is_balanced(node.left)\n",
    "    balanced_r , height_r = is_balanced(node.right)\n",
    "    balanced = balanced_l and balanced_r and abs(height_l - height_r) <=1\n",
    "    height = 1 + max(height_l,height_r)\n",
    "    return balanced, height\n"
   ]
  },
  {
   "cell_type": "code",
   "execution_count": 230,
   "id": "fe532f41",
   "metadata": {},
   "outputs": [
    {
     "name": "stdout",
     "output_type": "stream",
     "text": [
      "\t\t◯\n",
      "\tsamilevi\n",
      "\t\tmikasa_skills\n",
      "james21\n",
      "\t\t◯\n",
      "\tezefri\n",
      "\t\t\teren_rumbles\n",
      "\t\tarmin_colossal\n",
      "\t\t\t◯\n"
     ]
    }
   ],
   "source": [
    "TreeNode.display_keys(tree)"
   ]
  },
  {
   "cell_type": "code",
   "execution_count": 231,
   "id": "136ed4c1",
   "metadata": {},
   "outputs": [],
   "source": [
    "bal,hei = is_balanced(tree)"
   ]
  },
  {
   "cell_type": "code",
   "execution_count": 232,
   "id": "3c809432",
   "metadata": {},
   "outputs": [
    {
     "data": {
      "text/plain": [
       "(False, 4)"
      ]
     },
     "execution_count": 232,
     "metadata": {},
     "output_type": "execute_result"
    }
   ],
   "source": [
    "bal,hei"
   ]
  },
  {
   "cell_type": "code",
   "execution_count": 233,
   "id": "4fd48114",
   "metadata": {},
   "outputs": [],
   "source": [
    "def make_balanced_bst(data,lo=0,hi=None,parent=None):\n",
    "    if hi is None:\n",
    "        hi = len(data)-1\n",
    "    if lo > hi:\n",
    "        return None\n",
    "    mid = (lo+hi)//2\n",
    "    key, value = data[mid]\n",
    "    root = BSTNode(key,value)\n",
    "    root.parent = parent\n",
    "    root.left = make_balanced_bst(data,lo,mid-1,root)\n",
    "    root.right = make_balanced_bst(data,mid+1,hi,root)\n",
    "    return root\n",
    "\n",
    "    "
   ]
  },
  {
   "cell_type": "code",
   "execution_count": 234,
   "id": "a66386cb",
   "metadata": {},
   "outputs": [
    {
     "ename": "NameError",
     "evalue": "name 'Users' is not defined",
     "output_type": "error",
     "traceback": [
      "\u001b[1;31m---------------------------------------------------------------------------\u001b[0m",
      "\u001b[1;31mNameError\u001b[0m                                 Traceback (most recent call last)",
      "\u001b[1;32m~\\AppData\\Local\\Temp/ipykernel_14508/165921860.py\u001b[0m in \u001b[0;36m<module>\u001b[1;34m\u001b[0m\n\u001b[1;32m----> 1\u001b[1;33m \u001b[0mUsers\u001b[0m\u001b[1;33m\u001b[0m\u001b[1;33m\u001b[0m\u001b[0m\n\u001b[0m",
      "\u001b[1;31mNameError\u001b[0m: name 'Users' is not defined"
     ]
    }
   ],
   "source": [
    "Users"
   ]
  },
  {
   "cell_type": "code",
   "execution_count": 236,
   "id": "59e60596",
   "metadata": {},
   "outputs": [
    {
     "data": {
      "text/plain": [
       "[User(username= james21, name=james bond, email= opor2gmal.com),\n",
       " User(username= ezefri, name=eze, email= ezzi@mail.com),\n",
       " User(username= samilevi, name=sami ackerman, email= sami@rumbling.com),\n",
       " User(username= armin_colossal, name=armin arlert, email= armin@paradis.com),\n",
       " User(username= eren_rumbles, name=eren yeager, email= eren@rumbling.com),\n",
       " User(username= mikasa_skills, name=mikasa ackerman, email= mikasa@broken.pow),\n",
       " User(username= zeke_euthansia, name=zeke yeager, email= zeke@failed.bet)]"
      ]
     },
     "execution_count": 236,
     "metadata": {},
     "output_type": "execute_result"
    }
   ],
   "source": [
    "users"
   ]
  },
  {
   "cell_type": "code",
   "execution_count": null,
   "id": "a35a96ea",
   "metadata": {},
   "outputs": [],
   "source": [
    "data = [(user.username,user) for user in users]"
   ]
  },
  {
   "cell_type": "code",
   "execution_count": null,
   "id": "0edd6146",
   "metadata": {},
   "outputs": [],
   "source": [
    "data"
   ]
  },
  {
   "cell_type": "code",
   "execution_count": null,
   "id": "6d111346",
   "metadata": {},
   "outputs": [],
   "source": [
    "data.sort()"
   ]
  },
  {
   "cell_type": "code",
   "execution_count": 235,
   "id": "dc766ab0",
   "metadata": {},
   "outputs": [
    {
     "data": {
      "text/plain": [
       "[('armin_colossal',\n",
       "  User(username= armin_colossal, name=armin arlert, email= armin@paradis.com)),\n",
       " ('eren_rumbles',\n",
       "  User(username= eren_rumbles, name=eren yeager, email= eren@rumbling.com)),\n",
       " ('ezefri', User(username= ezefri, name=eze, email= ezzi@mail.com)),\n",
       " ('james21', User(username= james21, name=james bond, email= opor2gmal.com)),\n",
       " ('mikasa_skills',\n",
       "  User(username= mikasa_skills, name=mikasa ackerman, email= mikasa@broken.pow)),\n",
       " ('samilevi',\n",
       "  User(username= samilevi, name=sami ackerman, email= sami@rumbling.com)),\n",
       " ('zeke_euthansia',\n",
       "  User(username= zeke_euthansia, name=zeke yeager, email= zeke@failed.bet))]"
      ]
     },
     "execution_count": 235,
     "metadata": {},
     "output_type": "execute_result"
    }
   ],
   "source": [
    "data"
   ]
  },
  {
   "cell_type": "code",
   "execution_count": 237,
   "id": "f2675237",
   "metadata": {},
   "outputs": [],
   "source": [
    "tree2 = make_balanced_bst(data)"
   ]
  },
  {
   "cell_type": "code",
   "execution_count": 238,
   "id": "44c5677c",
   "metadata": {},
   "outputs": [
    {
     "name": "stdout",
     "output_type": "stream",
     "text": [
      "\t\tzeke_euthansia\n",
      "\tsamilevi\n",
      "\t\tmikasa_skills\n",
      "james21\n",
      "\t\tezefri\n",
      "\teren_rumbles\n",
      "\t\tarmin_colossal\n"
     ]
    }
   ],
   "source": [
    "TreeNode.display_keys(tree2)"
   ]
  },
  {
   "cell_type": "code",
   "execution_count": 239,
   "id": "c90c5ec1",
   "metadata": {},
   "outputs": [
    {
     "data": {
      "text/plain": [
       "(True, 3)"
      ]
     },
     "execution_count": 239,
     "metadata": {},
     "output_type": "execute_result"
    }
   ],
   "source": [
    "is_balanced(tree2)"
   ]
  },
  {
   "cell_type": "code",
   "execution_count": 240,
   "id": "f8f0200e",
   "metadata": {},
   "outputs": [
    {
     "data": {
      "text/plain": [
       "[('armin_colossal',\n",
       "  User(username= armin_colossal, name=armin arlert, email= armin@paradis.com)),\n",
       " ('eren_rumbles',\n",
       "  User(username= eren_rumbles, name=eren yeager, email= eren@rumbling.com)),\n",
       " ('ezefri', User(username= ezefri, name=eze, email= ezzi@mail.com)),\n",
       " ('james21', User(username= james21, name=james bond, email= opor2gmal.com)),\n",
       " ('mikasa_skills',\n",
       "  User(username= mikasa_skills, name=mikasa ackerman, email= mikasa@broken.pow)),\n",
       " ('samilevi', User(username= samix, name=sami changer, email= sami@gmial.com))]"
      ]
     },
     "execution_count": 240,
     "metadata": {},
     "output_type": "execute_result"
    }
   ],
   "source": [
    "listall(tree)"
   ]
  },
  {
   "cell_type": "code",
   "execution_count": 241,
   "id": "96b15563",
   "metadata": {},
   "outputs": [],
   "source": [
    "def balance_bst(node):\n",
    "    return make_balanced_bst(listall(node))"
   ]
  },
  {
   "cell_type": "code",
   "execution_count": 242,
   "id": "5a889a36",
   "metadata": {},
   "outputs": [],
   "source": [
    "tree1 = None\n",
    "for i in data:\n",
    "    key, value = i\n",
    "    tree1 = insert(tree1,key,value)\n",
    "    "
   ]
  },
  {
   "cell_type": "code",
   "execution_count": 243,
   "id": "517613df",
   "metadata": {
    "scrolled": true
   },
   "outputs": [
    {
     "name": "stdout",
     "output_type": "stream",
     "text": [
      "\t\t\t\t\t\tzeke_euthansia\n",
      "\t\t\t\t\tsamilevi\n",
      "\t\t\t\t\t\t◯\n",
      "\t\t\t\tmikasa_skills\n",
      "\t\t\t\t\t◯\n",
      "\t\t\tjames21\n",
      "\t\t\t\t◯\n",
      "\t\tezefri\n",
      "\t\t\t◯\n",
      "\teren_rumbles\n",
      "\t\t◯\n",
      "armin_colossal\n",
      "\t◯\n"
     ]
    }
   ],
   "source": [
    "TreeNode.display_keys(tree1)"
   ]
  },
  {
   "cell_type": "code",
   "execution_count": 244,
   "id": "a1fd56e8",
   "metadata": {},
   "outputs": [
    {
     "name": "stdout",
     "output_type": "stream",
     "text": [
      "\t\tzeke_euthansia\n",
      "\tsamilevi\n",
      "\t\tmikasa_skills\n",
      "james21\n",
      "\t\tezefri\n",
      "\teren_rumbles\n",
      "\t\tarmin_colossal\n"
     ]
    }
   ],
   "source": [
    "tree3 = balance_bst(tree1)\n",
    "TreeNode.display_keys(tree3)"
   ]
  },
  {
   "cell_type": "code",
   "execution_count": 252,
   "id": "a702d11c",
   "metadata": {},
   "outputs": [],
   "source": [
    "class TreeMap:\n",
    "    def __init__(self):\n",
    "        self.root = None\n",
    "        self.no_ins = 0 \n",
    "    def __setitem__(self,key,value):\n",
    "        node = find(self.root,key)\n",
    "        if not node:\n",
    "            self.root = insert(self.root,key,value)\n",
    "            self.no_ins += 1\n",
    "            if self.no_ins >2:\n",
    "                self.root = balance_bst(self.root)\n",
    "                print(\"performed balancing of tree\")\n",
    "                self.no_ins = 0\n",
    "        else:\n",
    "            update(self.root,key,value)\n",
    "    def __getitem__(self,key):\n",
    "        node = find(self.root,key)\n",
    "        return node.value if node else None\n",
    "    def __iter__(self):\n",
    "        return (x for x in listall(self.root))\n",
    "    def __len__(self):\n",
    "        return TreeNode.size(self.root)\n",
    "    def display(self):\n",
    "        TreeNode.display_keys(self.root)\n",
    "    def delete(self,key):\n",
    "        tree = list(self)\n",
    "        node = find(self.root,key)\n",
    "        print(node.key)\n",
    "        tree.remove((node.key,node.value))\n",
    "        self.root = None  \n",
    "        for i in tree:\n",
    "            self[i[0]] = i[1]\n",
    "        \n",
    "        \n",
    "        \n",
    "        "
   ]
  },
  {
   "cell_type": "code",
   "execution_count": 253,
   "id": "c44a4c7e",
   "metadata": {},
   "outputs": [
    {
     "name": "stdout",
     "output_type": "stream",
     "text": [
      "None\n",
      "◯\n",
      "performed balancing of tree\n",
      "performed balancing of tree\n"
     ]
    }
   ],
   "source": [
    "treemap = TreeMap()\n",
    "print(treemap.root)\n",
    "treemap.display()\n",
    "for user in users:\n",
    "    treemap[user.username]= user"
   ]
  },
  {
   "cell_type": "code",
   "execution_count": 254,
   "id": "a11acade",
   "metadata": {},
   "outputs": [
    {
     "name": "stdout",
     "output_type": "stream",
     "text": [
      "\t\t\tzeke_euthansia\n",
      "\t\tsamilevi\n",
      "\t\t\t◯\n",
      "\tmikasa_skills\n",
      "\t\tjames21\n",
      "ezefri\n",
      "\t\teren_rumbles\n",
      "\tarmin_colossal\n",
      "\t\t◯\n"
     ]
    }
   ],
   "source": [
    "treemap.display()"
   ]
  },
  {
   "cell_type": "code",
   "execution_count": 255,
   "id": "a6f32621",
   "metadata": {},
   "outputs": [
    {
     "data": {
      "text/plain": [
       "7"
      ]
     },
     "execution_count": 255,
     "metadata": {},
     "output_type": "execute_result"
    }
   ],
   "source": [
    "len (treemap)"
   ]
  },
  {
   "cell_type": "code",
   "execution_count": 256,
   "id": "07d8e284",
   "metadata": {},
   "outputs": [],
   "source": [
    "user8 = User(\"commander_erwin\",\"erwin erlet\",\"erwin@died.eon\")"
   ]
  },
  {
   "cell_type": "code",
   "execution_count": 257,
   "id": "e498aa46",
   "metadata": {},
   "outputs": [],
   "source": [
    "treemap[user8.username]= user8"
   ]
  },
  {
   "cell_type": "code",
   "execution_count": 258,
   "id": "4496f8fd",
   "metadata": {},
   "outputs": [
    {
     "name": "stdout",
     "output_type": "stream",
     "text": [
      "\t\t\tzeke_euthansia\n",
      "\t\tsamilevi\n",
      "\t\t\t◯\n",
      "\tmikasa_skills\n",
      "\t\tjames21\n",
      "ezefri\n",
      "\t\t\t◯\n",
      "\t\teren_rumbles\n",
      "\t\t\tcommander_erwin\n",
      "\tarmin_colossal\n",
      "\t\t◯\n"
     ]
    }
   ],
   "source": [
    "treemap.display()"
   ]
  },
  {
   "cell_type": "code",
   "execution_count": 190,
   "id": "016e74e9",
   "metadata": {},
   "outputs": [
    {
     "data": {
      "text/plain": [
       "[('armin_colossal',\n",
       "  User(username= armin_colossal, name=armin arlert, email= armin@paradis.com)),\n",
       " ('commander_erwin',\n",
       "  User(username= commander_erwin, name=erwin erlet, email= erwin@died.eon)),\n",
       " ('eren_rumbles',\n",
       "  User(username= eren_rumbles, name=eren yeager, email= eren@rumbling.com)),\n",
       " ('ezefri', User(username= ezefri, name=eze, email= ezzi@mail.com)),\n",
       " ('james21', User(username= james21, name=james bond, email= opor2gmal.com)),\n",
       " ('mikasa_skills',\n",
       "  User(username= mikasa_skills, name=mikasa ackerman, email= mikasa@broken.pow)),\n",
       " ('samilevi',\n",
       "  User(username= samilevi, name=sami ackerman, email= sami@rumbling.com)),\n",
       " ('zeke_euthansia',\n",
       "  User(username= zeke_euthansia, name=zeke yeager, email= zeke@failed.bet))]"
      ]
     },
     "execution_count": 190,
     "metadata": {},
     "output_type": "execute_result"
    }
   ],
   "source": [
    "list(treemap)"
   ]
  },
  {
   "cell_type": "code",
   "execution_count": 191,
   "id": "0602ff18",
   "metadata": {},
   "outputs": [],
   "source": [
    "tree = list(treemap)"
   ]
  },
  {
   "cell_type": "code",
   "execution_count": 192,
   "id": "ba73deb7",
   "metadata": {},
   "outputs": [],
   "source": [
    "tree.remove((user8.username,user8))"
   ]
  },
  {
   "cell_type": "code",
   "execution_count": 193,
   "id": "0d5702f8",
   "metadata": {},
   "outputs": [
    {
     "data": {
      "text/plain": [
       "[('armin_colossal',\n",
       "  User(username= armin_colossal, name=armin arlert, email= armin@paradis.com)),\n",
       " ('eren_rumbles',\n",
       "  User(username= eren_rumbles, name=eren yeager, email= eren@rumbling.com)),\n",
       " ('ezefri', User(username= ezefri, name=eze, email= ezzi@mail.com)),\n",
       " ('james21', User(username= james21, name=james bond, email= opor2gmal.com)),\n",
       " ('mikasa_skills',\n",
       "  User(username= mikasa_skills, name=mikasa ackerman, email= mikasa@broken.pow)),\n",
       " ('samilevi',\n",
       "  User(username= samilevi, name=sami ackerman, email= sami@rumbling.com)),\n",
       " ('zeke_euthansia',\n",
       "  User(username= zeke_euthansia, name=zeke yeager, email= zeke@failed.bet))]"
      ]
     },
     "execution_count": 193,
     "metadata": {},
     "output_type": "execute_result"
    }
   ],
   "source": [
    "tree"
   ]
  },
  {
   "cell_type": "code",
   "execution_count": 194,
   "id": "2bfbf2a5",
   "metadata": {},
   "outputs": [],
   "source": [
    "treemap2 = make_balanced_bst(tree)"
   ]
  },
  {
   "cell_type": "code",
   "execution_count": 195,
   "id": "231e1fed",
   "metadata": {},
   "outputs": [
    {
     "data": {
      "text/plain": [
       "<__main__.BSTNode at 0x15d2b0188e0>"
      ]
     },
     "execution_count": 195,
     "metadata": {},
     "output_type": "execute_result"
    }
   ],
   "source": [
    "treemap2"
   ]
  },
  {
   "cell_type": "code",
   "execution_count": 196,
   "id": "db58b2b4",
   "metadata": {},
   "outputs": [
    {
     "data": {
      "text/plain": [
       "__main__.User"
      ]
     },
     "execution_count": 196,
     "metadata": {},
     "output_type": "execute_result"
    }
   ],
   "source": [
    "type(tree[1][1])\n"
   ]
  },
  {
   "cell_type": "code",
   "execution_count": 197,
   "id": "8132f655",
   "metadata": {},
   "outputs": [
    {
     "name": "stdout",
     "output_type": "stream",
     "text": [
      "performed balancing of tree\n",
      "performed balancing of tree\n"
     ]
    }
   ],
   "source": [
    "tre = TreeMap()\n",
    "for i in tree:\n",
    "    tre[i[0]]=i[1]"
   ]
  },
  {
   "cell_type": "code",
   "execution_count": 259,
   "id": "dd3d6c27",
   "metadata": {},
   "outputs": [
    {
     "name": "stdout",
     "output_type": "stream",
     "text": [
      "commander_erwin\n",
      "performed balancing of tree\n",
      "performed balancing of tree\n",
      "performed balancing of tree\n"
     ]
    }
   ],
   "source": [
    "treemap.delete(\"commander_erwin\")"
   ]
  },
  {
   "cell_type": "code",
   "execution_count": 260,
   "id": "41639459",
   "metadata": {},
   "outputs": [
    {
     "name": "stdout",
     "output_type": "stream",
     "text": [
      "\t\tzeke_euthansia\n",
      "\tsamilevi\n",
      "\t\tmikasa_skills\n",
      "james21\n",
      "\t\tezefri\n",
      "\teren_rumbles\n",
      "\t\tarmin_colossal\n"
     ]
    }
   ],
   "source": [
    "treemap.display()"
   ]
  },
  {
   "cell_type": "code",
   "execution_count": null,
   "id": "88467eed",
   "metadata": {},
   "outputs": [],
   "source": []
  },
  {
   "cell_type": "code",
   "execution_count": null,
   "id": "b3ede436",
   "metadata": {},
   "outputs": [],
   "source": []
  },
  {
   "cell_type": "code",
   "execution_count": null,
   "id": "9c041243",
   "metadata": {},
   "outputs": [],
   "source": []
  },
  {
   "cell_type": "code",
   "execution_count": null,
   "id": "8f6fbef8",
   "metadata": {},
   "outputs": [],
   "source": [
    "\n"
   ]
  },
  {
   "cell_type": "code",
   "execution_count": null,
   "id": "9a4f7d06",
   "metadata": {},
   "outputs": [],
   "source": []
  },
  {
   "cell_type": "code",
   "execution_count": null,
   "id": "ce548315",
   "metadata": {},
   "outputs": [],
   "source": []
  }
 ],
 "metadata": {
  "kernelspec": {
   "display_name": "Python 3 (ipykernel)",
   "language": "python",
   "name": "python3"
  },
  "language_info": {
   "codemirror_mode": {
    "name": "ipython",
    "version": 3
   },
   "file_extension": ".py",
   "mimetype": "text/x-python",
   "name": "python",
   "nbconvert_exporter": "python",
   "pygments_lexer": "ipython3",
   "version": "3.9.7"
  }
 },
 "nbformat": 4,
 "nbformat_minor": 5
}
